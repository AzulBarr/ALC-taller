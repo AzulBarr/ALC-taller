{
  "nbformat": 4,
  "nbformat_minor": 0,
  "metadata": {
    "colab": {
      "provenance": [],
      "gpuType": "T4"
    },
    "kernelspec": {
      "name": "python3",
      "display_name": "Python 3"
    },
    "language_info": {
      "name": "python"
    },
    "accelerator": "GPU"
  },
  "cells": [
    {
      "cell_type": "markdown",
      "source": [
        "#Trabajo Practico N° 2\n",
        "Grupo: Factorización LR - Azul Barracchia & Augusto Guarnaccio"
      ],
      "metadata": {
        "id": "c4ttHQkXGEDc"
      }
    },
    {
      "cell_type": "markdown",
      "source": [
        "## Importamos librerías y datos\n",
        "\n",
        "Primero importamos todo aquello que se usara para el presente TP."
      ],
      "metadata": {
        "id": "0h_aBW_iGIuv"
      }
    },
    {
      "cell_type": "code",
      "execution_count": null,
      "metadata": {
        "id": "sy8srVaRM_Do"
      },
      "outputs": [],
      "source": [
        "import numpy as np\n",
        "import pandas as pd\n",
        "import matplotlib.pyplot as plt\n",
        "import seaborn as sns\n",
        "from sklearn.model_selection import train_test_split\n",
        "from sklearn.model_selection import StratifiedKFold"
      ]
    },
    {
      "cell_type": "markdown",
      "source": [
        "Ahor importamos los datos con los que vamos a trabajar."
      ],
      "metadata": {
        "id": "1rRpjUU0GSzK"
      }
    },
    {
      "cell_type": "code",
      "source": [
        "df_wine = pd.read_csv('./wine.csv')"
      ],
      "metadata": {
        "id": "zv7Wb0WJGYGy"
      },
      "execution_count": null,
      "outputs": []
    },
    {
      "cell_type": "markdown",
      "source": [
        "Y chequeamos que se hayan importado correctamente."
      ],
      "metadata": {
        "id": "tGuH4cnYGixA"
      }
    },
    {
      "cell_type": "code",
      "source": [
        "df_wine.head()"
      ],
      "metadata": {
        "id": "F1fG5-iIGkE2"
      },
      "execution_count": null,
      "outputs": []
    },
    {
      "cell_type": "markdown",
      "source": [
        "## Declaramos funciones\n",
        "En este apartado declararemos todas las funciones que son necesarias para llevar adelante el trabajo.\n",
        "En primer lugar, realizamos una función que dado un dataframe y el nombre de una columna calcule el promedio de dicha columna."
      ],
      "metadata": {
        "id": "-yrr9_flJq2M"
      }
    },
    {
      "cell_type": "code",
      "source": [
        "def promedio(df, nombre_columna):\n",
        "    avg = 0\n",
        "    for i in df[nombre_columna]:\n",
        "       avg += i\n",
        "    avg /= df.shape[0]\n",
        "    return avg"
      ],
      "metadata": {
        "id": "8JJF-as3M1ll"
      },
      "execution_count": null,
      "outputs": []
    },
    {
      "cell_type": "markdown",
      "source": [
        "En segundo lugar, realizamos una función que dado un dataframe y el nombre de una columna calcule el desvío estándar de dicha columna."
      ],
      "metadata": {
        "id": "RVX0vxI5NXDl"
      }
    },
    {
      "cell_type": "code",
      "source": [
        "def desvio_estandar(df, nombre_columna):\n",
        "    std = 0\n",
        "    avg = promedio(df, nombre_columna)\n",
        "    for i in df[nombre_columna]:\n",
        "        std += (i - avg) ** 2\n",
        "    std *= 1/(df.shape[0] - 1)\n",
        "    std = np.sqrt(std)\n",
        "    return std"
      ],
      "metadata": {
        "id": "n9Xy-vddNe-D"
      },
      "execution_count": null,
      "outputs": []
    },
    {
      "cell_type": "markdown",
      "source": [
        "En tercer lugar, realizamos una función que dado un dataframe y el nombre de una columna, normaliza y centra sus datos."
      ],
      "metadata": {
        "id": "UF2OI9opOBtR"
      }
    },
    {
      "cell_type": "code",
      "source": [
        "def centrar_normalizar(df, nombre_columna):\n",
        "    avg = promedio(df, nombre_columna)\n",
        "    std = desvio_estandar(df, nombre_columna)\n",
        "    nuevosValores = []\n",
        "    for i in df[nombre_columna]:\n",
        "        Xi = i\n",
        "        nuevosValores.append((Xi-avg)/std)\n",
        "    df[nombre_columna] = nuevosValores"
      ],
      "metadata": {
        "id": "aBGhux1uOJFc"
      },
      "execution_count": null,
      "outputs": []
    },
    {
      "cell_type": "markdown",
      "source": [
        "En cuarto lugar, realizamos una función que dado una lista de vectores convierta esa lista en matriz."
      ],
      "metadata": {
        "id": "jkesOblUNgkM"
      }
    },
    {
      "cell_type": "code",
      "source": [
        "def transformarAMatriz(avects):\n",
        "    avects = np.array(avects)\n",
        "    W = np.zeros((len(avects),len(avects[0])))\n",
        "    for i in range(len(avects)):\n",
        "        W[i] = avects[i].reshape(len(avects[0]))\n",
        "    return np.transpose(W)"
      ],
      "metadata": {
        "id": "gSB5tf0ZNnhp"
      },
      "execution_count": null,
      "outputs": []
    },
    {
      "cell_type": "markdown",
      "source": [
        "En quinto lugar, realizamos una función que dados dos vectores calcule su distancia en norma 2."
      ],
      "metadata": {
        "id": "T4rhXV4vUEtF"
      }
    },
    {
      "cell_type": "code",
      "source": [
        "def distDosVec(v,w):\n",
        "    return np.linalg.norm(v-w,2)"
      ],
      "metadata": {
        "id": "9QXalCDUUKAY"
      },
      "execution_count": null,
      "outputs": []
    },
    {
      "cell_type": "markdown",
      "source": [
        "En sexto lugar, realizamos una matriz que dados dos arrays calcula la matriz de confusión."
      ],
      "metadata": {
        "id": "SRImW2Iwokbc"
      }
    },
    {
      "cell_type": "code",
      "source": [
        "def calcularMatrizConfusión(Y_test,Y_pred):\n",
        "    confusion = np.zeros((3,3))\n",
        "    for j in range(len(Y_test)):\n",
        "       if Y_test[j] == 1:\n",
        "         if 1 == Y_pred[j]:\n",
        "           confusion[0,0] += 1\n",
        "         elif Y_pred[j] == 2:\n",
        "            confusion[0,1] += 1\n",
        "         else:\n",
        "            confusion[0,2] += 1\n",
        "       elif Y_test[j] == 2:\n",
        "         if 2 == Y_pred[j]:\n",
        "           confusion[1,1] += 1\n",
        "         elif Y_pred[j] == 1:\n",
        "            confusion[1,0] += 1\n",
        "         else:\n",
        "            confusion[1,2] += 1\n",
        "       else:\n",
        "         if 3 == Y_pred[j]:\n",
        "           confusion[2,2] += 1\n",
        "         elif Y_pred[j] == 1:\n",
        "            confusion[2,0] += 1\n",
        "         else:\n",
        "            confusion[2,1] += 1\n",
        "    return confusion"
      ],
      "metadata": {
        "id": "jz7r21ASojjz"
      },
      "execution_count": null,
      "outputs": []
    },
    {
      "cell_type": "markdown",
      "source": [
        "En séptimo lugar, realizamos una función que dada una matriz de confusión nos devuelve la accuracy del método."
      ],
      "metadata": {
        "id": "GO8R4mm_qEF3"
      }
    },
    {
      "cell_type": "code",
      "source": [
        "def calcularAccuracy(matriz):\n",
        "    cantidadTotal = 0\n",
        "    valoresBienClas = 0\n",
        "    for i in range(matriz.shape[0]):\n",
        "      valoresBienClas += matriz[i,i]\n",
        "      for j in range(matriz.shape[0]):\n",
        "        cantidadTotal += matriz[i,j]\n",
        "    acc = valoresBienClas/cantidadTotal\n",
        "    return acc"
      ],
      "metadata": {
        "id": "HGO0QwwUqKG8"
      },
      "execution_count": null,
      "outputs": []
    },
    {
      "cell_type": "markdown",
      "source": [
        "Declaramos una clave que luego usaremos para ordenar una lista de tuplas"
      ],
      "metadata": {
        "id": "jl4sh22YH493"
      }
    },
    {
      "cell_type": "code",
      "source": [
        "def claveParaOrdenar(tupla):\n",
        "  return (tupla[0], -tupla[1])"
      ],
      "metadata": {
        "id": "_w0sr4FWujCd"
      },
      "execution_count": null,
      "outputs": []
    },
    {
      "cell_type": "markdown",
      "source": [
        "## Ejercicio 1\n",
        "### Normalizamos y centramos los datos\n",
        "\n",
        "Para esta tarea usaremos las fórmulas y los procesos especificados en las instrucciones.\n",
        "En primer lugar, separamos en variables dependientes (Y) e independientes (X)."
      ],
      "metadata": {
        "id": "7E_PipbBNcmm"
      }
    },
    {
      "cell_type": "code",
      "source": [
        "variable_dependiente = 'Customer_Segment'\n",
        "Y = df_wine[[variable_dependiente]]\n",
        "Xs = df_wine.drop(columns=variable_dependiente)"
      ],
      "metadata": {
        "id": "oMhk-_8QNIaT"
      },
      "execution_count": null,
      "outputs": []
    },
    {
      "cell_type": "markdown",
      "source": [
        "Normalizamos y centramos los datos. Este es un paso importante a realizar previo a trabajar con cualquier conjunto de datos. Veamos por qué.\n",
        "\n",
        "En primer lugar, es importante centrar los datos ya que con este paso desplazamos la nuve de datos al origen lo que luego nos permite manipular los datos con una mayor facilidad.\n",
        "En segundo lugar, es importante normalizar los datos (aunque no siempre es necesario) ya que puedo tener variables que tengan órdenes de magnitud muy diferentes entre sí lo que va a causar que la varianza de variables con valores altos sea mayor que las variables cuyo órden de magnitud no es tan grande lo que capaz no refleja lo que en verdad está sucediendo; además, de que la primera componente principal va a ser cercana a esta dirección, lo que quizás tampoco refleja lo que verdaderamente está sucediendo. Para evitar este fenómeno es que normalizamos.\n"
      ],
      "metadata": {
        "id": "DClnjHxlHsNa"
      }
    },
    {
      "cell_type": "code",
      "source": [
        "atributosXs = Xs.columns.values\n",
        "for i in range(13):\n",
        "    centrar_normalizar(Xs, atributosXs[i])"
      ],
      "metadata": {
        "id": "5fONCZdqH24C"
      },
      "execution_count": null,
      "outputs": []
    },
    {
      "cell_type": "markdown",
      "source": [
        "### Armamos la matriz de covarianza\n",
        "\n",
        "Ahora que tenemos los datos dispuestos de esta manera, podemos armar la matriz de covarianza; matriz que en cada una de sus coordenadas representa la covarianza de dos características/atributos de nuestra base de datos. Es una matriz cuadrada simétrica cuya dimensión es $cantidad$  $de$ $caracteristicas$ x $cantidad$ $de$ $caracteristicas$.\n",
        "\n",
        "A su vez, si decidimos normalizar los datos la matriz tendrá $1$s en la diagonal y en el resto de sus posiciones números mayormente en el intervalo $[-1, 1]$\n",
        " (aunque en algunos casos pueden no estar en este rango).\n",
        "\n",
        "Por ejemplo, si la llamamos $C$ entonces en $C[0,0]$ vamos a encontrar la covarianza de la característica 1 consigmo misma, es decir, la varianza. En cambio en $C[0,1]$ vamos a encontrar la covarianza de la característica 1 con la característica 2.\n",
        "\n",
        "En el caso de este trabajo, es una matriz de dimensión $13$x$13$ que representa la varianza y la covarianza de las diferentes características de los vinos.\n"
      ],
      "metadata": {
        "id": "nAmgin5NIA79"
      }
    },
    {
      "cell_type": "code",
      "source": [
        "def calculoCov(df):\n",
        "    prom = np.mean(df, axis=0).values\n",
        "    PROM = np.tile(prom.reshape((len(prom), 1)), df.shape[0])\n",
        "    PROM = np.transpose(PROM)\n",
        "    B = df.values\n",
        "    B = B - PROM\n",
        "    Mcov = np.dot(B.T,B)/ 178\n",
        "    return Mcov"
      ],
      "metadata": {
        "id": "CT96lEv8PeYW"
      },
      "execution_count": null,
      "outputs": []
    },
    {
      "cell_type": "markdown",
      "source": [
        "Mostramos la matriz de covarianza. Vale aclarar que por una cuestión de representación de los números asociada a Python en la diagonal no tenemos $1$s sino valores muy cercanos."
      ],
      "metadata": {
        "id": "UJob5bU1QIz8"
      }
    },
    {
      "cell_type": "code",
      "source": [
        "print(calculoCov(Xs))"
      ],
      "metadata": {
        "id": "2wxf8H2_QK8Z"
      },
      "execution_count": null,
      "outputs": []
    },
    {
      "cell_type": "markdown",
      "source": [
        "### Implementamos el método de la potencia\n",
        "Ahora implementaremos el método de la potencia para poder despejar el máximo autovalor y su autovector asociado. Esta función nos será de utilidad ya que luego con esta podremos despejar los autovalores y los autovectores asociados de la matriz de covarianza."
      ],
      "metadata": {
        "id": "qVAfYiT-Kjiu"
      }
    },
    {
      "cell_type": "code",
      "source": [
        "def metodo_de_la_potencia(A):\n",
        "    # Tomamos un vector cualquiera no nulo\n",
        "    avect = np.random.rand(A.shape[0])\n",
        "    k = 9999\n",
        "    for _ in range(k):\n",
        "        avect = (A @ avect) / np.linalg.norm(A @ avect,2)\n",
        "        aval = (np.transpose(avect) @ A @ avect) / (np.transpose(avect) @ avect)\n",
        "    return aval, avect"
      ],
      "metadata": {
        "id": "N6APWy7xLOFA"
      },
      "execution_count": null,
      "outputs": []
    },
    {
      "cell_type": "markdown",
      "source": [
        "Probemos la función para que devuela el autovalor y autovector máximo de nuestra matriz de covarianza."
      ],
      "metadata": {
        "id": "QDaS53C6P2Xo"
      }
    },
    {
      "cell_type": "code",
      "source": [
        "A = calculoCov(Xs)\n",
        "max_aval_cov = metodo_de_la_potencia(A)[0]\n",
        "avect_asoc_cov = metodo_de_la_potencia(A)[1]\n",
        "print('Aval máximo: ', max_aval_cov,\n",
        "      '\\nAvect asociado : ', avect_asoc_cov)"
      ],
      "metadata": {
        "id": "Oce9dRxDP7rR"
      },
      "execution_count": null,
      "outputs": []
    },
    {
      "cell_type": "markdown",
      "source": [
        "#### Modificamos la función\n",
        "Como anticipamos, ahora modificaremos la función anteriormente declarada para poder calcular todos los autovalores y todos los autovectores. Para ello, usaremos el algoritmo de deflación.\n",
        "\n",
        "Esta función que implementamos, recibe una matriz simétrica A (decidimos considerarla simétrica ya que solo usaremos esta función aplicada sobre matrices de covarianza) y una cantidad n (menor a su cantidad de filas) y devuelve los n autovalores de módulo máximo y sus correspondientes autovectores."
      ],
      "metadata": {
        "id": "91HUgpGvLOYL"
      }
    },
    {
      "cell_type": "code",
      "source": [
        "def metodo_de_la_potencia_2(A,n):\n",
        "    # Tomamos un vector cualquiera no nulo\n",
        "    avect = np.random.rand(A.shape[0])\n",
        "    avect = np.reshape(avect, (A.shape[0], 1))\n",
        "    avects = []\n",
        "    avals = []\n",
        "    k = 9999\n",
        "    for _ in range(n):\n",
        "        for _ in range(k):\n",
        "            avect = (A @ avect) / np.linalg.norm(A @ avect,2)\n",
        "            aval = (np.transpose(avect) @ A @ avect) / (np.transpose(avect) @ avect)\n",
        "        avects.append(avect)\n",
        "        avals.append(aval[0][0])\n",
        "        A = A - (aval * (avect @ np.transpose(avect)))\n",
        "    avects = transformarAMatriz(avects)\n",
        "    return avals, avects"
      ],
      "metadata": {
        "id": "UyLKtanKPETb"
      },
      "execution_count": null,
      "outputs": []
    },
    {
      "cell_type": "code",
      "source": [
        "A = calculoCov(Xs)\n",
        "max_avals_cov = metodo_de_la_potencia_2(A,13)[0]\n",
        "avects_asoc_cov = metodo_de_la_potencia_2(A,13)[1]\n",
        "print('Aval máximo: ', max_avals_cov,\n",
        "      '\\nAvect asociado : ', avects_asoc_cov)"
      ],
      "metadata": {
        "id": "cEKivWje2_pT"
      },
      "execution_count": null,
      "outputs": []
    },
    {
      "cell_type": "markdown",
      "source": [
        "### Despejamos autovalores y autovectores\n",
        "\n",
        "Con la función modificada en el apartado anterior despejaremos los autovalores y autovectores de la matriz de covarianza. Estos son importantes y están fuertemente relacionados con la matriz que almacena nuestros datos.\n",
        "\n",
        "Por un lado, la matriz de covarianza va a tener 1 autovalor por cada característica que tengan nuestros vinos, es decir, la cantidad de autovalores va a ser la misma que la cantidad de propiedades de los vecinos. Por lo tanto, va a ser una matriz diagonalizable. A su vez, estos 13 autovalores van a ser los 13 valores singulares de la descomposición SVD de la matriz que almacena nuestros datos.\n",
        "\n",
        "Por otro lado, los autovectores van a representar las componentes principales de nuestra matriz que almacena los datos. Si ordenamos los autovalores de mayor a menor vamos a tener ordenadas de mayor a menor las diferentes componentes principales, donde la mayor representa la dirección de mayor variabilidad de nuestros datos.\n",
        "\n",
        "\n"
      ],
      "metadata": {
        "id": "WotFlPuGHznD"
      }
    },
    {
      "cell_type": "markdown",
      "source": [
        "### PCA\n",
        "\n",
        "El próximo paso, y el penúltimo antes de poder realizar los experimentos será implementar la función que nos permita hacer el análisis en componentes principales. Para esto, seguimos los pasos explicitados en el documento de cálculos auxiliares. La función definida toma un dataframe, lo convierte en matriz y calcula la proyección de la matriz en el espacio generado por los autovectores pasados como parámetros."
      ],
      "metadata": {
        "id": "GrQk72xmLkp9"
      }
    },
    {
      "cell_type": "code",
      "source": [
        "def metodoDePCA(X, avects):\n",
        "    X = X.values\n",
        "    W = avects\n",
        "    return X @ W"
      ],
      "metadata": {
        "id": "z0RCmqv25GG1"
      },
      "execution_count": null,
      "outputs": []
    },
    {
      "cell_type": "markdown",
      "source": [
        "Probemos la función para 4 autovectores."
      ],
      "metadata": {
        "id": "hxgdv8xXThbM"
      }
    },
    {
      "cell_type": "code",
      "source": [
        "print(metodoDePCA(Xs, metodo_de_la_potencia_2(calculoCov(Xs),4)[1]))"
      ],
      "metadata": {
        "id": "h4oRMpUxTh99"
      },
      "execution_count": null,
      "outputs": []
    },
    {
      "cell_type": "markdown",
      "source": [
        "### kNN\n",
        "\n"
      ],
      "metadata": {
        "id": "PnB310xnL8YQ"
      }
    },
    {
      "cell_type": "markdown",
      "source": [
        "El último paso antes de realizar los experimentos será implementar una función que realice el algoritmo kNN.\n"
      ],
      "metadata": {
        "id": "Gtf6CE1TT5V3"
      }
    },
    {
      "cell_type": "code",
      "source": [
        "def kNN(X_train,Y_train,X_test,k,n, avects):\n",
        "    # Calculamos la proyección de los datos de train con el PCA\n",
        "    X_data = metodoDePCA(X_train, avects)\n",
        "\n",
        "    # Pasamos a matriz todo lo que sea df\n",
        "    Y_data = Y_train.values[:,0]\n",
        "    X_pred = X_test.values\n",
        "    # Centramos y estandarizamos los datos de test\n",
        "    for i in range(X_pred.shape[1]):\n",
        "      X_pred[:, i] = (X_pred[:, i] - promedios[i])/desvios_estandares[i]\n",
        "\n",
        "    # Proyectamos\n",
        "    X_pred = X_pred @ avects\n",
        "    Y_pred = np.zeros(X_pred.shape[0])\n",
        "\n",
        "    labels = Y_train['Customer_Segment'].unique().tolist()\n",
        "\n",
        "    for i in range(X_pred.shape[0]):\n",
        "        k_vecinos = []\n",
        "        for j in range(X_data.shape[0]):\n",
        "            dist = distDosVec(X_pred[i], X_data[j])\n",
        "            label = Y_data[j]\n",
        "            k_vecinos.append((dist,label))\n",
        "        # Ordenamos la lista de menor a mayor para obtener los que más cerca están\n",
        "        k_vecinos = sorted(k_vecinos, key=claveParaOrdenar)\n",
        "        k_vecinos = k_vecinos[:k]\n",
        "        # Nos quedamos con los k vecinos\n",
        "        segundos_elementos = [tupla[1] for tupla in k_vecinos]\n",
        "        # Ahora armamos una nueva lista solo con los labels para saber cuál es el que más se repite\n",
        "        repeticionesLabels = [segundos_elementos.count(labels[0]), segundos_elementos.count(labels[1]), segundos_elementos.count(labels[2])]\n",
        "        Y_pred[i] = labels[repeticionesLabels.index(max(repeticionesLabels))]\n",
        "        # Nos quedamos con el de mayor repeticiones\n",
        "\n",
        "    return Y_pred"
      ],
      "metadata": {
        "id": "wisdvkuv5Z_X"
      },
      "execution_count": null,
      "outputs": []
    },
    {
      "cell_type": "markdown",
      "source": [
        "## Ejercicio 2\n",
        "\n"
      ],
      "metadata": {
        "id": "c39vxxoRHyck"
      }
    },
    {
      "cell_type": "markdown",
      "source": [
        "Ahora, comenzaremos a resolver la segunda parte del trabajo, donde pondremos a prueba nuestro método PCA. Para esto primero dividiremos nuestro dataframe en uno de train o entrenamiento y en otro de testeo o prueba."
      ],
      "metadata": {
        "id": "t8jg14SsJB0j"
      }
    },
    {
      "cell_type": "code",
      "source": [
        "variable_dependiente = 'Customer_Segment'\n",
        "Y = df_wine[[variable_dependiente]]\n",
        "Xs = df_wine.drop(columns=variable_dependiente)\n",
        "X_train, X_test, Y_train, Y_test = train_test_split(Xs, Y, test_size= 0.20, random_state=5, stratify=Y)"
      ],
      "metadata": {
        "id": "z4Is1LqjJNjI"
      },
      "execution_count": null,
      "outputs": []
    },
    {
      "cell_type": "markdown",
      "source": [
        "Centralizamos y normalizamos los datos de train."
      ],
      "metadata": {
        "id": "De6mVH1uhifQ"
      }
    },
    {
      "cell_type": "code",
      "source": [
        "atributosX_train = X_train.columns.values\n",
        "promedios = []\n",
        "desvios_estandares = []\n",
        "for i in range(13):\n",
        "    promedios.append(promedio(X_train, atributosX_train[i]))\n",
        "    desvios_estandares.append(desvio_estandar(X_train, atributosX_train[i]))\n",
        "    centrar_normalizar(X_train, atributosX_train[i])"
      ],
      "metadata": {
        "id": "1zoRNwUDhmhY"
      },
      "execution_count": null,
      "outputs": []
    },
    {
      "cell_type": "markdown",
      "source": [
        "Ahora, evaluaremos el sistema de recomendación usando 1, 2, 3 y 4 componentes principales. Los valores que vayamos a obtener serán almacenados en la siguiente tabla."
      ],
      "metadata": {
        "id": "OR9IQQ21JUQa"
      }
    },
    {
      "cell_type": "code",
      "source": [
        "TABLA = pd.DataFrame(columns= ['Modelo PCA', 'Componente', 'Varianza explicada', 'Porcentaje %', 'Acumulado %'])\n",
        "\n",
        "j = 0\n",
        "Mcov = calculoCov(X_train)\n",
        "avals_cov = metodo_de_la_potencia_2(Mcov,13)[0]\n",
        "suma = sum(avals_cov)\n",
        "for i in range(1,5):\n",
        "\n",
        "    if i == 1:\n",
        "        TABLA.at[j,'Modelo PCA'] = '1 Componente Principal'\n",
        "        TABLA.at[j, 'Componente'] = 1\n",
        "        varianzaExplicada = avals_cov[0] / suma\n",
        "        TABLA.at[j, 'Varianza explicada'] = varianzaExplicada\n",
        "        TABLA.at[j, 'Porcentaje %'] = varianzaExplicada * 100\n",
        "        TABLA.at[j, 'Acumulado %'] = varianzaExplicada * 100\n",
        "        j += 1\n",
        "\n",
        "    else:\n",
        "        varianzasExplicadas = []\n",
        "        for k in range(1,i+1):\n",
        "            varianzasExplicadas.append(avals_cov[k-1] / suma)\n",
        "            TABLA.at[j,'Modelo PCA'] = f'{i} Componentes Principales'\n",
        "            TABLA.at[j, 'Componente'] = k\n",
        "            TABLA.at[j, 'Varianza explicada'] = varianzasExplicadas[k-1]\n",
        "            TABLA.at[j, 'Porcentaje %'] = varianzasExplicadas[k-1] * 100\n",
        "            acumulado = sum(varianzasExplicadas)\n",
        "            TABLA.at[j, 'Acumulado %'] = acumulado * 100\n",
        "            j += 1"
      ],
      "metadata": {
        "id": "fz3l99EshO6k"
      },
      "execution_count": null,
      "outputs": []
    },
    {
      "cell_type": "markdown",
      "source": [
        "La tabla resultante es la siguiente."
      ],
      "metadata": {
        "id": "pkv-ACpLjTVT"
      }
    },
    {
      "cell_type": "markdown",
      "source": [
        "![image.png](data:image/png;base64,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)"
      ],
      "metadata": {
        "id": "nNZCApdk7UxA"
      }
    },
    {
      "cell_type": "markdown",
      "source": [
        "### Gráficos\n"
      ],
      "metadata": {
        "id": "1EZ11W0zj_gz"
      }
    },
    {
      "cell_type": "markdown",
      "source": [
        "Ahora que tenemos las tablas, vamos a graficar como se verían las proyecciones y los resultados obtenidos para ver si podemos encontrar una tendencia o elegir un mejor método.\n",
        "\n",
        "Para eso primero nos quedamos con las 3 labels de todos los vinos."
      ],
      "metadata": {
        "id": "9nel-FjJ78CR"
      }
    },
    {
      "cell_type": "code",
      "source": [
        "labels = Y_train['Customer_Segment'].unique().tolist()"
      ],
      "metadata": {
        "id": "7FVJU-4RkKaP"
      },
      "execution_count": null,
      "outputs": []
    },
    {
      "cell_type": "markdown",
      "source": [
        "Ahora, para cada una de las componentes graficaremos la proyección separando en colores las labels."
      ],
      "metadata": {
        "id": "fd33KErG8H8r"
      }
    },
    {
      "cell_type": "code",
      "source": [
        "X1 = metodoDePCA(X_train, metodo_de_la_potencia_2(calculoCov(X_train),1)[1])\n",
        "X1 = np.append(X1, Y_train.values, 1) # Agregamos las labels a los datos para poder graficar\n",
        "\n",
        "plt.title(\"Proyección en la primera componente principal\")\n",
        "for label in labels:\n",
        "    X = X1[X1[:, 1] == label]\n",
        "    plt.scatter(x=X[:, 0], y=np.zeros(X.shape[0]), label=f'Customer_segment {int(label)}')\n",
        "plt.xlabel('u1')\n",
        "plt.legend()\n",
        "plt.show()"
      ],
      "metadata": {
        "id": "jRznNVq2j9OK"
      },
      "execution_count": null,
      "outputs": []
    },
    {
      "cell_type": "code",
      "source": [
        "X2 = metodoDePCA(X_train, metodo_de_la_potencia_2(calculoCov(X_train),2)[1])\n",
        "X2 = np.append(X2, Y_train.values, 1) # Agregamos las labels a los datos para poder graficar\n",
        "\n",
        "plt.title(\"Proyección en las dos primeras componentes principales\")\n",
        "for label in labels:\n",
        "    X = X2[X2[:, 2] == label]\n",
        "    plt.scatter(x=X[:, 0], y=X[:, 1], label=f'Customer_segment {int(label)}')\n",
        "plt.xlabel('u1')\n",
        "plt.ylabel('u2')\n",
        "plt.legend()\n",
        "plt.show()"
      ],
      "metadata": {
        "id": "NVxmY9aukP7K"
      },
      "execution_count": null,
      "outputs": []
    },
    {
      "cell_type": "code",
      "source": [
        "X3 = metodoDePCA(X_train, metodo_de_la_potencia_2(calculoCov(X_train),3)[1])\n",
        "X3 = np.append(X3, Y_train.values, 1) # Agregamos las labels a los datos para poder graficar\n",
        "\n",
        "plt.title(\"Proyección en las tres primeras componentes principales\")\n",
        "ax = plt.axes(projection='3d')\n",
        "for label in labels:\n",
        "    X = X3[X3[:, 3] == label]\n",
        "    ax.scatter3D(xs=X[:,0], ys=X[:,1], zs=X[:,2], label=f'Customer_segment {int(label)}')\n",
        "##plt.xslabel('u1')\n",
        "##plt.yslabel('u2')\n",
        "##plt.zslabel('u3')\n",
        "plt.legend()\n",
        "plt.show()"
      ],
      "metadata": {
        "id": "1aDWoyuxkpOJ"
      },
      "execution_count": null,
      "outputs": []
    },
    {
      "cell_type": "markdown",
      "source": [
        "### Métricas\n",
        "\n",
        "Ahora llega la hora de testear qué tan bueno es nuestro sistema de recomendación. Para eso, para cada una de las 4 componentes principales calcularemos la matriz de confusión."
      ],
      "metadata": {
        "id": "foVN2G-z9qJJ"
      }
    },
    {
      "cell_type": "code",
      "source": [
        "avects = metodo_de_la_potencia_2(calculoCov(X_train),4)[1]\n",
        "Y_pred = kNN(X_train, Y_train, X_test, 1, 1, avects[:,:1])\n",
        "\n",
        "matrixcf1 = calcularMatrizConfusión(Y_test.values[:,0], Y_pred)\n",
        "\n",
        "sns.heatmap(matrixcf1, annot=True, cbar = False).set(title='Matriz de confusion para k = 1 y 1 componente principal', xlabel = 'Valor predicho', ylabel = 'Valor real')"
      ],
      "metadata": {
        "id": "WXw0Vre0_6DB"
      },
      "execution_count": null,
      "outputs": []
    },
    {
      "cell_type": "code",
      "source": [
        "Y_pred = kNN(X_train, Y_train, X_test, 1, 2, avects[:,:2])\n",
        "\n",
        "matrixcf2 = calcularMatrizConfusión(Y_test.values[:,0], Y_pred)\n",
        "\n",
        "sns.heatmap(matrixcf2, annot=True, cbar = False).set(title='Matriz de confusion para k = 1 y 2 componentes principales', xlabel = 'Valor predicho', ylabel = 'Valor real')\n"
      ],
      "metadata": {
        "id": "YND7iOJzAy8B"
      },
      "execution_count": null,
      "outputs": []
    },
    {
      "cell_type": "code",
      "source": [
        "Y_pred = kNN(X_train, Y_train, X_test, 1, 3, avects[:,:3])\n",
        "\n",
        "matrixcf3 = calcularMatrizConfusión(Y_test.values[:,0], Y_pred)\n",
        "\n",
        "sns.heatmap(matrixcf3, annot=True, cbar = False).set(title='Matriz de confusion para k = 1 y 3 componentes principales', xlabel = 'Valor predicho', ylabel = 'Valor real')"
      ],
      "metadata": {
        "id": "g8GU2xBUA9j3"
      },
      "execution_count": null,
      "outputs": []
    },
    {
      "cell_type": "code",
      "source": [
        "Y_pred = kNN(X_train, Y_train, X_test, 1, 4, avects)\n",
        "\n",
        "matrixcf4 = calcularMatrizConfusión(Y_test.values[:,0], Y_pred)\n",
        "\n",
        "sns.heatmap(matrixcf4, annot=True, cbar = False).set(title='Matriz de confusion para k = 1 y 4 componentes principales', xlabel = 'Valor predicho', ylabel = 'Valor real')"
      ],
      "metadata": {
        "id": "c7q8Ap9_BFVL"
      },
      "execution_count": null,
      "outputs": []
    },
    {
      "cell_type": "markdown",
      "source": [
        "Ahora que tenemos todas las matrices de confusión podemos calcular los accuracies de cada uno de los métodos de arriba."
      ],
      "metadata": {
        "id": "KbpPEdjXqY6V"
      }
    },
    {
      "cell_type": "code",
      "source": [
        "TABLA = pd.DataFrame(columns= ['Cantidad componentes', 'Accuracy %'])\n",
        "almacenarCF = [matrixcf1, matrixcf2, matrixcf3, matrixcf4]\n",
        "for i in range(1,5):\n",
        "  TABLA.at[i, 'Cantidad componentes'] = i\n",
        "  TABLA.at[i, 'Accuracy %'] = calcularAccuracy(almacenarCF[i-1])*100\n",
        "\n",
        "print(TABLA)"
      ],
      "metadata": {
        "colab": {
          "base_uri": "https://localhost:8080/"
        },
        "id": "9k9emXvWoU7K",
        "outputId": "edd56119-1dfd-42ff-a8ab-6c83159ca491"
      },
      "execution_count": null,
      "outputs": [
        {
          "output_type": "stream",
          "name": "stdout",
          "text": [
            "  Cantidad componentes Accuracy %\n",
            "1                    1  77.777778\n",
            "2                    2  94.444444\n",
            "3                    3  88.888889\n",
            "4                    4  94.444444\n"
          ]
        }
      ]
    },
    {
      "cell_type": "markdown",
      "source": [
        "No obstante, estos datos no nos resultaron suficientes y quisimos ver qué pasa cuándo cambiamos los vecinos para poder decantarnos por el mejor modelo. Para ello, realizamos el siguiente experimento para ver cómo cambia la efectividad del modelo de predicción para distintas cantidades de vecinos, y distintas cantidades de componentes principales."
      ],
      "metadata": {
        "id": "UL91govx73fz"
      }
    },
    {
      "cell_type": "code",
      "source": [
        "accuraciesTodos = []\n",
        "for cantComponentes in range(1,5):\n",
        "  accuracies = []\n",
        "  for k in range(1,11):\n",
        "    Y_pred = kNN(X_train, Y_train, X_test, k, cantComponentes, avects[:,:cantComponentes])\n",
        "    Mconfusion = calcularMatrizConfusión(Y_test.values[:,0], Y_pred)\n",
        "    accuracies.append(calcularAccuracy(Mconfusion))\n",
        "  accuraciesTodos.append(accuracies)\n",
        "\n",
        "plt.plot(np.arange(1,11), accuraciesTodos[0], label = '1 componente principal', alpha=0.7)\n",
        "plt.plot(np.arange(1,11), accuraciesTodos[1], label = '2 componentes principales', alpha=0.7)\n",
        "plt.plot(np.arange(1,11), accuraciesTodos[2], label = '3 componentes principales', alpha=0.7)\n",
        "plt.plot(np.arange(1,11), accuraciesTodos[3], label = '4 componentes principales', alpha=0.7)\n",
        "plt.legend()\n",
        "plt.title('Accuracy del modelo de knn para distintas cantidades de componentes y de vecinos')\n",
        "plt.xlabel('Cantidad de vecinos')\n",
        "plt.ylabel('Accuracy')\n",
        "plt.xticks(np.arange(1,11))\n",
        "plt.ylim(0.70,1.00)\n"
      ],
      "metadata": {
        "id": "pBh9OYke71OE"
      },
      "execution_count": null,
      "outputs": []
    },
    {
      "cell_type": "markdown",
      "source": [
        "Se puede ver que para k = 1, los valores de accuracy para 4 y 2 componentes son los mismos, esta información también se puede ver en la tabla previamente presentada. Nos sorprendió que esto pasara, ya que esperabamos que con 3 componentes principales la predicción sea del mismo nivel o mejor que para 2 componentes. Creemos que una posible razón de esto es la proyección que realizamos con el método PCA. Esta debe generar valores numéricos muy cercanos por lo que a la hora de calcular la distancia de un nuevo vino no funciona con la precisión suficiente. De todos modos, con este gráfico podemos ver que para más cantidad de vecinos esto sí se cumple.\n",
        "\n",
        "Otra información que nos brinda el gráfico es el momento en que para cada componente principal se alcanza la máxima accuracy. Por ejemplo, si se quiere utilizar el kNN para 4 componentes principales y generar la mayor accuracy posible bastaría con elegir k = 2."
      ],
      "metadata": {
        "id": "BQoUsc42DWU-"
      }
    },
    {
      "cell_type": "markdown",
      "source": [
        "## Conclusión"
      ],
      "metadata": {
        "id": "70xIbKcRsqXz"
      }
    },
    {
      "cell_type": "markdown",
      "source": [
        "Son varias las conclusiones a las que llegamos con el presente trabajo cuyo objetivo fue el análisis de la habilidad de predicción del modelo de KNN que implementamos mediante la medición de su accuracy.\n",
        "\n",
        "En primer lugar, a partir del gráfico, donde se compara los distintos modelos variando la cantidad de componentes principales y la cantidad de vecinos, se puede concluir que el modelo mejora significativamente si se elige más de 1 de autovector para proyectar los valores. Es decir, sería idóneo elegir el módelo que utiliza 2, 3 o 4 autovectores para su proyección.\n",
        "\n",
        "En segundo lugar, continuando con lo expuesto en el párrafo anterior, se puede ver que no hay un gran cambio en la accuracy cuando elegimos 2, 3 y 4 autovectores para proyectar. Por este motivo, creemos que sería más eficiente elegir 2 autovectores para la proyección si se trabaja con k = 1 dada su alta capacidad predictiva y puesto que para una base de datos más grande llevaría menos tiempo su clasificación y sería igual de buena que con 4 autovectores. En el caso donde se elija elegir un k mayor a 1 creemos que sería más eficiente elegir 2 o 3 autovectores para la proyección, pero no 4 ya que se estaría realizando un modelo de predicción más complicado pero sin una mejoría notoria.\n",
        "\n",
        "Por último, hay que tener en cuenta que las conclusiones se realizaron en base a una determinada división de los datos, en test y train. Con una base de datos distinta, con otra variación de las labels, con otro tipo de división, los resultados obtenidos de las accuracies podrían variar. Sin embargo, creemos que si se deseara utilizar el modelo entrenado por nosotros se obtendrían buenos resultados dadas las métricas expuestas.\n",
        "\n"
      ],
      "metadata": {
        "id": "3Ax7-p8GzQFR"
      }
    }
  ]
}